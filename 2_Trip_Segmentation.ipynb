{
  "nbformat": 4,
  "nbformat_minor": 0,
  "metadata": {
    "colab": {
      "provenance": []
    },
    "kernelspec": {
      "name": "python3",
      "display_name": "Python 3"
    },
    "language_info": {
      "name": "python"
    }
  },
  "cells": [
    {
      "cell_type": "code",
      "execution_count": null,
      "metadata": {
        "id": "rX5b86eXyOPc"
      },
      "outputs": [],
      "source": [
        "import pandas as pd\n",
        "import seaborn as sns\n",
        "import numpy as np\n",
        "import matplotlib.pyplot as plt\n",
        "from scipy.interpolate import interp1d\n",
        "import xgboost as xgb\n",
        "from xgboost import plot_importance as xgb_plot_importance\n",
        "from sklearn.model_selection import train_test_split, GridSearchCV\n",
        "from sklearn.metrics import mean_squared_error, r2_score,mean_absolute_error\n",
        "from datetime import datetime, timedelta\n",
        "from sklearn.ensemble import RandomForestRegressor"
      ]
    },
    {
      "cell_type": "code",
      "source": [
        "df_clean = pd.read_csv('df_clean.csv')"
      ],
      "metadata": {
        "id": "-TfnxgszIyJv"
      },
      "execution_count": null,
      "outputs": []
    },
    {
      "cell_type": "code",
      "source": [
        "df_clean"
      ],
      "metadata": {
        "id": "-Jmuz7nOJLUo"
      },
      "execution_count": null,
      "outputs": []
    },
    {
      "cell_type": "markdown",
      "metadata": {
        "id": "_QecTbzXzkp9"
      },
      "source": [
        "# Dwell Times"
      ]
    },
    {
      "cell_type": "code",
      "execution_count": null,
      "metadata": {
        "id": "L8poyHR_zALA"
      },
      "outputs": [],
      "source": [
        "df = df_clean\n",
        "dwell_times = []\n",
        "cumulative_dwell_list = []\n",
        "current_dwell = pd.Timedelta(0)\n",
        "cumulative_dwell = pd.Timedelta(0)\n",
        "in_dwell = False\n",
        "df['datetime'] = pd.to_datetime(df['datetime'])\n",
        "\n",
        "for i in range(0, len(df)):\n",
        "    if df.loc[i, 'speed_km_h'] == 0:  # Vehicle is stationary\n",
        "        if not in_dwell:\n",
        "            # Start a new stop\n",
        "            in_dwell = True\n",
        "            start_time = df.loc[i, 'datetime']\n",
        "            cumulative_dwell_list.append(current_dwell)\n",
        "        else:\n",
        "            current_dwell = df.loc[i, 'datetime'] - start_time\n",
        "            cumulative_dwell_list.append(current_dwell)\n",
        "\n",
        "    else:  # Vehicle is moving\n",
        "        if in_dwell:\n",
        "            # End the stop and store the dwell time\n",
        "            dwell_times.append(current_dwell)\n",
        "            in_dwell = False\n",
        "            current_dwell = pd.Timedelta(0)  # Reset the dwell time\n",
        "        cumulative_dwell_list.append(current_dwell)\n",
        "\n",
        "# If the last timestamp was part of a stop, add its dwell time\n",
        "if in_dwell:\n",
        "    dwell_times.append(current_dwell)\n",
        "\n",
        "# (in minutes)\n",
        "dwell_times_in_minutes = [dw.total_seconds() / 60 for dw in dwell_times]\n",
        "print(\"Dwell times for each stop (in minutes):\", dwell_times_in_minutes)\n",
        "df['cumulative_dwell']=cumulative_dwell_list"
      ]
    },
    {
      "cell_type": "code",
      "source": [
        "filtered_dwell_times = [dt for dt in dwell_times_in_minutes if dt > 0]\n",
        "len(filtered_dwell_times)"
      ],
      "metadata": {
        "id": "xDwOUqXbJlaE"
      },
      "execution_count": null,
      "outputs": []
    },
    {
      "cell_type": "code",
      "execution_count": null,
      "metadata": {
        "id": "VhZ99D3iz_hA"
      },
      "outputs": [],
      "source": [
        "mean_dwell = np.mean(filtered_dwell_times )\n",
        "median_dwell = np.median(filtered_dwell_times)\n",
        "min_dwell = np.min(filtered_dwell_times)\n",
        "max_dwell = np.max(filtered_dwell_times)\n",
        "\n",
        "print(f\"Mean dwell time: {mean_dwell:.2f} minutes\")\n",
        "print(f\"Median dwell time: {median_dwell:.2f} minutes\")\n",
        "print(f\"Min dwell time: {min_dwell:.2f} minutes\")\n",
        "print(f\"Max dwell time: {max_dwell:.2f} minutes\")"
      ]
    },
    {
      "cell_type": "markdown",
      "metadata": {
        "id": "mUVl4C8I0V9n"
      },
      "source": [
        "## Plot dwell times"
      ]
    },
    {
      "cell_type": "code",
      "execution_count": null,
      "metadata": {
        "id": "IvTNzrysIg5E"
      },
      "outputs": [],
      "source": [
        "plt.hist(filtered_dwell_times, edgecolor='black', color='lightblue')\n",
        "plt.title('Dwell Time Distribution')\n",
        "plt.xlabel('Dwell Time (minutes)')\n",
        "plt.ylabel('Frequency')\n",
        "plt.show()"
      ]
    },
    {
      "cell_type": "code",
      "source": [
        "plt.figure(figsize=(8, 5))\n",
        "plt.scatter(range(len(filtered_dwell_times)), np.sort(filtered_dwell_times), alpha=0.7, color='lightblue')\n",
        "plt.yscale('log')  # Log scale to better see variations\n",
        "plt.xlabel(\"Stop Index (Sorted)\")\n",
        "plt.ylabel(\"Dwell Time (minutes) [Log Scale]\")\n",
        "plt.title(\"Scatter Plot of Dwell Times (Log Scale)\")\n",
        "plt.show()"
      ],
      "metadata": {
        "id": "l7_ZB__rJ5lD"
      },
      "execution_count": null,
      "outputs": []
    },
    {
      "cell_type": "markdown",
      "metadata": {
        "id": "OYK8DtCN00wz"
      },
      "source": [
        "## Distribution of dwell times"
      ]
    },
    {
      "cell_type": "code",
      "source": [
        "bins = [0, 5, 30, 120, 480, float(\"inf\")]\n",
        "labels = [\"0-5min\", \"5-30min\", \"30min-2h\", \"2-8h\", \"> 8h\"]\n",
        "\n",
        "# Categorize dwell times\n",
        "categories = pd.cut(filtered_dwell_times, bins=bins, labels=labels, right=False)\n",
        "\n",
        "# Count occurrences in each category\n",
        "category_counts = categories.value_counts().sort_index()\n",
        "\n",
        "# Plot bar chart with counts and percentages\n",
        "plt.figure(figsize=(8, 7.7))\n",
        "category_counts.plot(kind=\"bar\", color=[\"lightblue\", \"orange\", \"olive\", \"brown\", \"turquoise\"])\n",
        "# category_counts.plot(kind=\"bar\", colormap='berlin')\n",
        "plt.xlabel(\"Dwell Time Category\")\n",
        "plt.ylabel(\"Frequency\")\n",
        "plt.title(\"Distribution of Truck Dwell Times\")\n",
        "plt.xticks(rotation=0)\n",
        "\n",
        "total = category_counts.sum()\n",
        "percentages = category_counts / total * 100\n",
        "\n",
        "for i, (v, p) in enumerate(zip(category_counts, percentages)):\n",
        "    plt.text(i, v + 5, f\"{v} ({p:.1f}%)\", ha=\"center\", fontsize=10)\n",
        "\n",
        "plt.show()"
      ],
      "metadata": {
        "id": "WSSkFYHSJ8EZ"
      },
      "execution_count": null,
      "outputs": []
    },
    {
      "cell_type": "markdown",
      "metadata": {
        "id": "zexO-dj80-3T"
      },
      "source": [
        "# Trip segmentation (given a time threshold for now)"
      ]
    },
    {
      "cell_type": "code",
      "source": [
        "def segmentTrips(data, dwell_time_threshold):\n",
        "    data = data.copy()\n",
        "    data['trip_id'] = None\n",
        "\n",
        "    # Variable to track current trip and whether the truck is moving or stopped\n",
        "    trip_id = 0\n",
        "    in_trip = False\n",
        "    current_dwell = pd.Timedelta(0)\n",
        "\n",
        "    for i in range(0, len(data)):\n",
        "        if data.loc[i, 'speed_km_h'] == 0:\n",
        "            cumulative_dwell = data.loc[i,'cumulative_dwell'].total_seconds() / 60\n",
        "            if cumulative_dwell >= dwell_time_threshold:\n",
        "                # Mark stop as ending the trip\n",
        "                data.loc[i, 'trip_id'] = None\n",
        "                in_trip = False\n",
        "            else:\n",
        "                if in_trip:\n",
        "                    # Start a new trip if the truck wasn't already in one\n",
        "                    data.loc[i, 'trip_id'] = trip_id\n",
        "                else:\n",
        "                    data.loc[i, 'trip_id'] = None\n",
        "        else:\n",
        "            if not in_trip:\n",
        "                trip_id += 1  # New trip starts when the truck moves again\n",
        "                in_trip = True\n",
        "            data.loc[i, 'trip_id'] = trip_id\n",
        "\n",
        "    return data"
      ],
      "metadata": {
        "id": "LLxLBhEQKIjG"
      },
      "execution_count": null,
      "outputs": []
    },
    {
      "cell_type": "code",
      "source": [
        "df_30_min = segmentTrips(df,30)\n",
        "df_30_min.to_csv('30min-idle.csv', index=False)\n",
        "df_2_hours = segmentTrips(df,120)\n",
        "df_2_hours.to_csv('2hour-idle.csv', index=False)"
      ],
      "metadata": {
        "id": "BjYsTB0NJqug"
      },
      "execution_count": null,
      "outputs": []
    },
    {
      "cell_type": "code",
      "execution_count": null,
      "metadata": {
        "id": "cllgRhUM7FRX"
      },
      "outputs": [],
      "source": [
        "def detect_refueling(trip_data, refuel_threshold=100):\n",
        "    fuel_diff = trip_data['fuel_volume_lit'].diff().fillna(0)\n",
        "    refuel_indices = fuel_diff[fuel_diff > refuel_threshold].index.tolist()\n",
        "\n",
        "    refueled_fuel = 0\n",
        "    if refuel_indices:\n",
        "        for idx in refuel_indices:\n",
        "            fuel_before = trip_data.loc[idx - 1, 'fuel_volume_lit'] if idx > 0 else 0\n",
        "            fuel_after = trip_data.loc[idx, 'fuel_volume_lit']\n",
        "\n",
        "            fuel_added = fuel_after - fuel_before\n",
        "            refueled_fuel += fuel_added\n",
        "\n",
        "    return refueled_fuel"
      ]
    },
    {
      "cell_type": "code",
      "execution_count": null,
      "metadata": {
        "id": "ZcQIZTQ_xDgn"
      },
      "outputs": [],
      "source": [
        "def calculate_trip_metrics(df):\n",
        "    df['datetime'] = pd.to_datetime(df['datetime'], errors='coerce')\n",
        "    df_filtered = df[df['speed_km_h'] > 0].copy()\n",
        "    df_filtered = df_filtered.reset_index(drop=True)\n",
        "\n",
        "    grouped_trips = (\n",
        "        df_filtered.groupby('trip_id')\n",
        "          .agg(\n",
        "              start_time=('datetime', 'min'),\n",
        "              end_time=('datetime', 'max'),\n",
        "              duration_min=('datetime', lambda x: (x.max() - x.min()).total_seconds() / 60),\n",
        "              start_fuel=('smoothed_fuel', 'first'),\n",
        "              end_fuel=('smoothed_fuel', 'last'),\n",
        "              mean_speed=('speed_km_h', 'mean'),\n",
        "              mean_acceleration=('acceleration', 'mean'),\n",
        "              max_acceleration = ('acceleration', 'max'),\n",
        "              mean_weight=('linear_interp', 'mean'),\n",
        "              elev_gain=('elev_diff', lambda x: x[x > 0].sum()),\n",
        "              distance_travelled=('mileage_km', lambda x: x.max() - x.min()),\n",
        "          )\n",
        "          .reset_index()\n",
        "    )\n",
        "\n",
        "    grouped_trips['refueled_fuel_lit'] = grouped_trips['trip_id'].apply(\n",
        "        lambda x: detect_refueling(df_filtered[df_filtered['trip_id'] == x])\n",
        "    )\n",
        "    grouped_trips['fuel_used_lit'] = grouped_trips['start_fuel'] - grouped_trips['end_fuel']\n",
        "\n",
        "    grouped_trips['total_fuel_used_lit'] = grouped_trips['fuel_used_lit'] + grouped_trips['refueled_fuel_lit']\n",
        "\n",
        "    return grouped_trips"
      ]
    },
    {
      "cell_type": "code",
      "source": [
        "trips_30min_idle = calculate_trip_metrics(df_30_min)\n",
        "trips_2hours_idle = calculate_trip_metrics(df_2_hours)"
      ],
      "metadata": {
        "id": "QtbFkNjiJIHA"
      },
      "execution_count": null,
      "outputs": []
    },
    {
      "cell_type": "code",
      "execution_count": null,
      "metadata": {
        "id": "2sWl0vIgOeeU"
      },
      "outputs": [],
      "source": [
        "def create_lit_per_100km_column(trips):\n",
        "    trips['lit_per_100km'] = 100* trips['total_fuel_used_lit'] / trips['distance_travelled']\n",
        "    return trips\n",
        "trips_30min_idle = create_lit_per_100km_column(trips_30min_idle)\n",
        "trips_2hours_idle = create_lit_per_100km_column(trips_2hours_idle)"
      ]
    },
    {
      "cell_type": "code",
      "execution_count": null,
      "metadata": {
        "id": "_xu1XBefSbdH"
      },
      "outputs": [],
      "source": [
        "def create_valid_trips(trips):\n",
        "    valid_trips = trips[\n",
        "        (trips['distance_travelled'] >=5) &\n",
        "        (trips['lit_per_100km'] >= 3) &\n",
        "        (trips['lit_per_100km'] <= 80)\n",
        "    ]\n",
        "    return valid_trips\n",
        "\n",
        "valid_30min_trips = create_valid_trips(trips_30min_idle)\n",
        "valid_2hours_trips = create_valid_trips(trips_2hours_idle)"
      ]
    },
    {
      "cell_type": "code",
      "source": [
        "def remove_duplicates(all_trips):\n",
        "    all_trips['is_duplicate'] = all_trips.duplicated(subset=['start_time', 'end_time'], keep='first')\n",
        "    print(f\"Number of duplicates: {all_trips['is_duplicate'].sum()}\")\n",
        "    print(f\"Number of unique trips: {len(all_trips) - all_trips['is_duplicate'].sum()}\")\n",
        "\n",
        "    all_trips = all_trips[~all_trips['is_duplicate']]\n",
        "\n",
        "    all_trips = all_trips.sort_values(by='start_time', ascending=True)\n",
        "    all_trips.to_csv('all_trips.csv', index=False)\n",
        "    print(f\"{all_trips.shape[0]}\")\n",
        "    return all_trips\n"
      ],
      "metadata": {
        "id": "PH7vGG7YKxaB"
      },
      "execution_count": null,
      "outputs": []
    },
    {
      "cell_type": "code",
      "source": [
        "columns_to_drop = ['start_time','end_time','start_fuel','end_fuel',\n",
        "                   'refueled_fuel_lit','fuel_used_lit']\n",
        "\n",
        "valid_30min_trips['source'] = '30min'\n",
        "valid_2hours_trips['source'] = '2hr'\n",
        "all_trips = pd.concat([valid_30min_trips,valid_2hours_trips], ignore_index=True)\n",
        "all_trips = remove_duplicates(all_trips)\n",
        "valid_30min_trips = valid_30min_trips.drop(columns=columns_to_drop)\n",
        "valid_2hours_trips = valid_2hours_trips.drop(columns=columns_to_drop)\n",
        "all_trips = all_trips.drop(columns=columns_to_drop)\n",
        "\n",
        "all_trips.to_csv('all_trips.csv', index=False)\n",
        "valid_30min_trips.to_csv('trips_30min_idle.csv', index=False)\n",
        "valid_2hours_trips.to_csv('trips_2hours_idle.csv', index=False)\n",
        "\n",
        "valid_30min_trips.shape[0],valid_2hours_trips.shape[0],all_trips.shape[0]"
      ],
      "metadata": {
        "id": "TJbtizwe-nKa"
      },
      "execution_count": null,
      "outputs": []
    },
    {
      "cell_type": "code",
      "source": [
        "def plot_feature_distribution(trips, feature, color, title=None,cap_value=None):\n",
        "    if title is None:\n",
        "        title = f'Distribution of {feature}'\n",
        "    if cap_value is not None:\n",
        "        trips[feature] = np.minimum(trips[feature], cap_value)\n",
        "    plt.figure(figsize=(5, 3))\n",
        "    plt.hist(trips[feature], color=color, edgecolor='white')\n",
        "    plt.title(title)\n",
        "    plt.xlabel(feature)\n",
        "    plt.ylabel('Frequency')\n",
        "    # plt.grid(True)\n",
        "    plt.show()"
      ],
      "metadata": {
        "id": "Z7ElcLc5aSfI"
      },
      "execution_count": null,
      "outputs": []
    },
    {
      "cell_type": "code",
      "source": [
        "def plot_multiple_boxplots(trips_list, feature, colors, labels, title=None):\n",
        "    plt.figure(figsize=(10, 6))\n",
        "\n",
        "    data = [trips[feature] for trips in trips_list]\n",
        "    boxplot = plt.boxplot(data, patch_artist=True,\n",
        "                          boxprops=dict(color='gray'),\n",
        "                          whiskerprops=dict(color='gray'),\n",
        "                          flierprops=dict(markerfacecolor='red', marker='o', markersize=6))\n",
        "    for patch, color in zip(boxplot['boxes'], colors):\n",
        "        patch.set_facecolor(color)\n",
        "\n",
        "    plt.title(title)\n",
        "    plt.ylabel(feature)\n",
        "    plt.xticks(range(1, len(labels) + 1), labels)\n",
        "    plt.grid(True)\n",
        "    plt.show()"
      ],
      "metadata": {
        "id": "r3ZIVTWwCwhG"
      },
      "execution_count": null,
      "outputs": []
    },
    {
      "cell_type": "code",
      "source": [
        "plot_multiple_boxplots(\n",
        "    trips_list=[valid_30min_trips, valid_2hours_trips, all_trips],\n",
        "    feature='duration_min',\n",
        "    colors = ['orange', 'olive', 'darkcyan'],\n",
        "    labels = ['Short Trips', 'Long Trips', 'Combined Trips'],\n",
        "    title='Comparison of Duration (in Minutes) Across Different Trip Datasets'\n",
        ")"
      ],
      "metadata": {
        "id": "v8MpruKjC1B_"
      },
      "execution_count": null,
      "outputs": []
    },
    {
      "cell_type": "code",
      "source": [
        "plot_multiple_boxplots(\n",
        "    trips_list=[valid_30min_trips, valid_2hours_trips, all_trips],\n",
        "    feature='distance_travelled',\n",
        "    colors = ['orange', 'olive', 'darkcyan'],\n",
        "    labels = ['Short Trips', 'Long Trips', 'Combined Trips'],\n",
        "    title='Comparison of Distance Across Different Trip Datasets'\n",
        ")"
      ],
      "metadata": {
        "id": "jnJxAja3EIJe"
      },
      "execution_count": null,
      "outputs": []
    },
    {
      "cell_type": "code",
      "source": [
        "plot_multiple_boxplots(\n",
        "    trips_list=[valid_30min_trips, valid_2hours_trips, all_trips],\n",
        "    feature='total_fuel_used_lit',\n",
        "    colors = ['orange', 'olive', 'darkcyan'],\n",
        "    labels = ['Short Trips', 'Long Trips', 'Combined Trips'],\n",
        "    title='Comparison of Total Fuel Used Across Different Trip Types'\n",
        ")"
      ],
      "metadata": {
        "id": "hAKZVhD66g7J"
      },
      "execution_count": null,
      "outputs": []
    },
    {
      "cell_type": "code",
      "source": [
        "plot_multiple_boxplots(\n",
        "    trips_list=[valid_30min_trips, valid_2hours_trips, all_trips],\n",
        "    feature='lit_per_100km',\n",
        "    colors = ['orange', 'olive', 'darkcyan'],\n",
        "    labels = ['Short Trips', 'Long Trips', 'Combined Trips'],\n",
        "    title='Comparison of Fuel Efficiency (Liters per 100 km) Across Different Trip Types'\n",
        ")"
      ],
      "metadata": {
        "id": "UNOAmJD98FQG"
      },
      "execution_count": null,
      "outputs": []
    }
  ]
}